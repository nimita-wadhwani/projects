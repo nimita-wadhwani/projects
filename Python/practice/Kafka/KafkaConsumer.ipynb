{
 "cells": [
  {
   "cell_type": "code",
   "execution_count": 1,
   "id": "36d52970-7434-49a1-a725-36177918d834",
   "metadata": {},
   "outputs": [],
   "source": [
    "from kafka import KafkaConsumer\n",
    "from time import sleep\n",
    "from json import dumps,loads, JSONDecodeError\n",
    "import json\n",
    "from s3fs import S3FileSystem"
   ]
  },
  {
   "cell_type": "code",
   "execution_count": null,
   "id": "f97dab0c-b11e-4c6d-a5af-316a9c3e0dcc",
   "metadata": {},
   "outputs": [],
   "source": [
    "consumer = KafkaConsumer(\n",
    "        'demo_test6',\n",
    "        bootstrap_servers=['44.204.183.115:9092'],\n",
    "        value_deserializer=lambda x: loads(x.decode('utf-8')))"
   ]
  },
  {
   "cell_type": "code",
   "execution_count": null,
   "id": "c22623a9-81ce-4824-9534-17428b61e8a8",
   "metadata": {},
   "outputs": [],
   "source": [
    "for c in consumer:\n",
    "    print(c.value)"
   ]
  },
  {
   "cell_type": "code",
   "execution_count": null,
   "id": "b3cc5a05-0bbd-4be4-a3e8-bdd25381946a",
   "metadata": {},
   "outputs": [],
   "source": []
  },
  {
   "cell_type": "code",
   "execution_count": null,
   "id": "885f637c-3bf0-4169-9c70-e3b4ace199d2",
   "metadata": {},
   "outputs": [],
   "source": []
  },
  {
   "cell_type": "code",
   "execution_count": null,
   "id": "30de9d09-8716-43bb-b8e8-8eec1b1c5310",
   "metadata": {},
   "outputs": [],
   "source": []
  },
  {
   "cell_type": "code",
   "execution_count": null,
   "id": "9d044699-cd6f-4fc6-9ea0-6c0ef7943f12",
   "metadata": {},
   "outputs": [],
   "source": []
  },
  {
   "cell_type": "code",
   "execution_count": null,
   "id": "d29c3dc2-4587-45e9-a4ab-00c3f20b10ea",
   "metadata": {},
   "outputs": [],
   "source": [
    "for c in consumer:\n",
    "    raw_message = c.value\n",
    "    print(f\"Raw message: {raw_message}\")\n",
    "\n",
    "    if not raw_message:\n",
    "        print(\"Received an empty message.\")\n",
    "        continue\n",
    "    \n",
    "    try:\n",
    "        message = loads(raw_message.decode('utf-8'))\n",
    "        print(f\"Decoded message: {message}\")\n",
    "    except JSONDecodeError as e:\n",
    "        print(f\"Failed to decode message: {e}\")\n",
    "        # Handle the error, e.g., by continuing to the next message\n",
    "        continue"
   ]
  },
  {
   "cell_type": "code",
   "execution_count": null,
   "id": "9225f974-5b55-457a-93e9-70039b6723b0",
   "metadata": {},
   "outputs": [],
   "source": []
  },
  {
   "cell_type": "code",
   "execution_count": null,
   "id": "1b572d4e-1672-449c-a77b-c026c7ea3a73",
   "metadata": {},
   "outputs": [],
   "source": []
  },
  {
   "cell_type": "code",
   "execution_count": null,
   "id": "5b22ffb4-d0d7-499c-94e5-1afd9baf3d65",
   "metadata": {},
   "outputs": [],
   "source": [
    "s3 = S3FileSystem()"
   ]
  },
  {
   "cell_type": "code",
   "execution_count": null,
   "id": "45e2fbbc-4f79-4da7-9a42-5d61d7db9d26",
   "metadata": {},
   "outputs": [],
   "source": [
    "for count, i in enumerate(consumer):\n",
    "    print(count)\n",
    "    print(i.value)"
   ]
  },
  {
   "cell_type": "code",
   "execution_count": null,
   "id": "a53c717f-91d9-4b62-842c-913d05034b3d",
   "metadata": {},
   "outputs": [],
   "source": [
    "for count, i in enumerate(consumer):\n",
    "    with s3.open(\"s3://kafka-stock-market-project-nimita/stock_market_{}.json\".format(count))\n",
    "    json.dump(i.value, file)"
   ]
  }
 ],
 "metadata": {
  "kernelspec": {
   "display_name": "Python 3 (ipykernel)",
   "language": "python",
   "name": "python3"
  },
  "language_info": {
   "codemirror_mode": {
    "name": "ipython",
    "version": 3
   },
   "file_extension": ".py",
   "mimetype": "text/x-python",
   "name": "python",
   "nbconvert_exporter": "python",
   "pygments_lexer": "ipython3",
   "version": "3.11.5"
  }
 },
 "nbformat": 4,
 "nbformat_minor": 5
}
