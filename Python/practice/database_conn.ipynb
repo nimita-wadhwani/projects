{
 "cells": [
  {
   "cell_type": "code",
   "execution_count": 1,
   "id": "8104772d-3b02-4716-a72f-0a989337b7d9",
   "metadata": {},
   "outputs": [],
   "source": [
    "#library for connecting to database, manipulating - running and inserting queries\n",
    "\n",
    "import psycopg2"
   ]
  },
  {
   "cell_type": "code",
   "execution_count": 3,
   "id": "968b1209-fcf2-4376-953f-45e181496eaa",
   "metadata": {},
   "outputs": [],
   "source": [
    "#create a connection to the database\n",
    "try:\n",
    "    conn = psycopg2.connect(\"host=localhost user=postgres password=momdad23\")\n",
    "except psycopg2.Error as e:\n",
    "    print(\"Error: Could not make connection to the Postgres Database\")\n",
    "    print(e)"
   ]
  },
  {
   "cell_type": "code",
   "execution_count": 5,
   "id": "ddff02b0-6891-40ee-a5ee-3aaa204cc2c9",
   "metadata": {},
   "outputs": [],
   "source": [
    "#use a connection to get a cursor that can be used to execute queries on database\n",
    "\n",
    "try:\n",
    "    cur = conn.cursor()\n",
    "except psycopg2.Error as e:\n",
    "    print(\"Error: Could not get cursor to the database\")\n",
    "    print(e)"
   ]
  },
  {
   "cell_type": "code",
   "execution_count": 7,
   "id": "59ce427e-4740-4c2d-b7bc-2051dca5774a",
   "metadata": {},
   "outputs": [],
   "source": [
    "#set automatic commit to be trie so that each action is committed without having to call conn.commit() after each command\n",
    "\n",
    "conn.set_session(autocommit=True)"
   ]
  },
  {
   "cell_type": "code",
   "execution_count": null,
   "id": "033d1e4e-abad-4878-bed2-6d3b73357c30",
   "metadata": {},
   "outputs": [],
   "source": [
    "# Create a database to do the work in\n",
    "# execute func takes parameter as query\n",
    "\n",
    "try:\n",
    "    cur.execute(\"create database myfirstdb\")\n",
    "except psycopg2.Error as e:\n",
    "    print(e)"
   ]
  },
  {
   "cell_type": "code",
   "execution_count": null,
   "id": "04b32c2a-f7de-4b2d-8e28-a43d39f2ad66",
   "metadata": {},
   "outputs": [],
   "source": [
    "\n",
    "try:\n",
    "    conn.close()\n",
    "except psycopg2.Error as e:\n",
    "    print(e)\n"
   ]
  },
  {
   "cell_type": "code",
   "execution_count": null,
   "id": "47e82f6b-fd73-416f-ad5b-f44c14f6ff56",
   "metadata": {},
   "outputs": [],
   "source": [
    "#Add the database name in connect statement. Lets close our connection to the default database, reconnect to the udacity database, and get a new cursor\n",
    "\n",
    "try:\n",
    "    conn = psycopg2.connect(\"host=localhost user=myfirstdb password=momdad23\")\n",
    "except psycopg2.Error as e:\n",
    "    print(\"Error: Could not make connection to the Postgres Database\")\n",
    "    print(e)\n"
   ]
  },
  {
   "cell_type": "code",
   "execution_count": null,
   "id": "469a3805-a8cc-4a17-8419-db7099c23274",
   "metadata": {},
   "outputs": [],
   "source": [
    "\n",
    "try:\n",
    "    cur = conn.cursor()\n",
    "except psycopg2.Error as e:\n",
    "    print(\"Error: Could not get cursor to the database\")\n",
    "    print(e)\n"
   ]
  },
  {
   "cell_type": "code",
   "execution_count": null,
   "id": "4abad9b2-e571-4e01-8ea0-da07aca07260",
   "metadata": {},
   "outputs": [],
   "source": [
    "\n",
    "conn.set_session(autocommit=True)"
   ]
  },
  {
   "cell_type": "code",
   "execution_count": null,
   "id": "3d0ae3f9-d448-46c4-8b08-365d627aa53b",
   "metadata": {},
   "outputs": [],
   "source": [
    "#Create table\n",
    "\n",
    "try:\n",
    "    cur.execute(\"CREATE TABLE IF NOT EXISTS students (student_id int, name varchar, age int,\\\n",
    "    gender varchar, subject varchar, marks int);\")\n",
    "except psycopg2.Error as e:\n",
    "    print(\"Error: Issue creating table\")\n",
    "    print(e)"
   ]
  },
  {
   "cell_type": "code",
   "execution_count": 9,
   "id": "11cd540c-b9db-43b9-83b3-aa84eefdfecb",
   "metadata": {},
   "outputs": [],
   "source": [
    "#Insert\n",
    "\n",
    "\n",
    "try:\n",
    "    cur.execute(\"INSERT INTO students (student_id, name, age, gender, subject, marks) \\\n",
    "                VALUES(%s, %s, %s, %s, %s, %s)\",\n",
    "                (1 , \"Raj\", 23, \"Male\", \"Python\", 85))\n",
    "except psycopg2.Error as e:\n",
    "    print(\"Error: Inserting rows\")\n",
    "    print(e)\n",
    "\n",
    "try:\n",
    "    cur.execute(\"INSERT INTO students (student_id, name, age, gender, subject, marks) \\\n",
    "                VALUES(%s, %s, %s, %s, %s, %s)\",\n",
    "                (2 , \"Priya\", 22, \"Female\", \"Python\", 86))\n",
    "except psycopg2.Error as e:\n",
    "    print(\"Error: Inserting rows\")\n",
    "    print(e)"
   ]
  },
  {
   "cell_type": "code",
   "execution_count": 11,
   "id": "0222b8e0-95a8-487a-8360-d611a439b503",
   "metadata": {},
   "outputs": [
    {
     "name": "stdout",
     "output_type": "stream",
     "text": [
      "(1, 'Raj', 23, 'Male', 'Python', 85)\n",
      "(2, 'Priya', 22, 'Female', 'Python', 86)\n",
      "(1, 'Raj', 23, 'Male', 'Python', 85)\n",
      "(2, 'Priya', 22, 'Female', 'Python', 86)\n",
      "(1, 'Raj', 23, 'Male', 'Python', 85)\n",
      "(2, 'Priya', 22, 'Female', 'Python', 86)\n"
     ]
    }
   ],
   "source": [
    "#validate data was inserted\n",
    "\n",
    "try:\n",
    "    cur.execute(\"select * from students;\")\n",
    "except psycopg2.Error as e:\n",
    "    print(\"Error: Inserting rows\")\n",
    "    print(e)\n",
    "\n",
    "row = cur.fetchone()\n",
    "while row:\n",
    "    print(row)\n",
    "    row = cur.fetchone()"
   ]
  },
  {
   "cell_type": "code",
   "execution_count": null,
   "id": "4f78902d-163a-4c48-8a85-9eb842ee0d58",
   "metadata": {},
   "outputs": [],
   "source": [
    "#close cursor and connection\n",
    "\n",
    "cur.close()\n",
    "conn.close()\n"
   ]
  },
  {
   "cell_type": "code",
   "execution_count": null,
   "id": "84aa892a-5ac5-400f-be9e-ccf9c4e686cd",
   "metadata": {},
   "outputs": [],
   "source": []
  }
 ],
 "metadata": {
  "kernelspec": {
   "display_name": "Python 3 (ipykernel)",
   "language": "python",
   "name": "python3"
  },
  "language_info": {
   "codemirror_mode": {
    "name": "ipython",
    "version": 3
   },
   "file_extension": ".py",
   "mimetype": "text/x-python",
   "name": "python",
   "nbconvert_exporter": "python",
   "pygments_lexer": "ipython3",
   "version": "3.11.5"
  }
 },
 "nbformat": 4,
 "nbformat_minor": 5
}
