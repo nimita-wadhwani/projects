{
 "cells": [
  {
   "cell_type": "code",
   "execution_count": 1,
   "id": "f3a7a2ad-4848-43c1-9721-85d4aface6b2",
   "metadata": {},
   "outputs": [
    {
     "name": "stdin",
     "output_type": "stream",
     "text": [
      "Enter the interest rate (e.g., 0.05 for 5%):  0.05\n"
     ]
    }
   ],
   "source": [
    "while True:\n",
    "    try:\n",
    "        interest_rate = float(input(\"Enter the interest rate (e.g., 0.05 for 5%): \"))\n",
    "        if interest_rate > 1:\n",
    "            interest_rate /= 100\n",
    "        if interest_rate < 0:\n",
    "            print(\"The interest rate cannot be negative. Please enter a positive interest rate.\")\n",
    "            continue\n",
    "        break\n",
    "    except ValueError:\n",
    "        print(\"Invalid input. Please enter a numeric value.\")"
   ]
  },
  {
   "cell_type": "code",
   "execution_count": 3,
   "id": "baa8f7e1-b244-48b5-9a5e-0de28f3225de",
   "metadata": {},
   "outputs": [],
   "source": [
    "cash_flows = [-15000, 4200, 3800, 3500, 2700, 2500, 4000]"
   ]
  },
  {
   "cell_type": "code",
   "execution_count": 5,
   "id": "27e0b861-a18d-4a8b-a225-40f7477ae259",
   "metadata": {},
   "outputs": [
    {
     "data": {
      "text/plain": [
       "[-15000, 4200, 3800, 3500, 2700, 2500, 4000]"
      ]
     },
     "execution_count": 5,
     "metadata": {},
     "output_type": "execute_result"
    }
   ],
   "source": [
    "cash_flows"
   ]
  },
  {
   "cell_type": "code",
   "execution_count": 7,
   "id": "e8b40480-7a69-47b0-b66c-107d5ec06ab5",
   "metadata": {},
   "outputs": [],
   "source": [
    "discounted_cash_flows = []\n",
    "for i in range(len(cash_flows)):\n",
    "    discounted_cash_flow = cash_flows[i] / ((1 + interest_rate) ** i)\n",
    "    discounted_cash_flows.append(discounted_cash_flow)"
   ]
  },
  {
   "cell_type": "code",
   "execution_count": 9,
   "id": "d9e5e23f-d50a-47c7-8a64-030d092fa0e1",
   "metadata": {},
   "outputs": [
    {
     "data": {
      "text/plain": [
       "[-15000.0,\n",
       " 4000.0,\n",
       " 3446.7120181405894,\n",
       " 3023.431594860166,\n",
       " 2221.296681938081,\n",
       " 1958.815416171147,\n",
       " 2984.8615865465094]"
      ]
     },
     "execution_count": 9,
     "metadata": {},
     "output_type": "execute_result"
    }
   ],
   "source": [
    "discounted_cash_flows"
   ]
  },
  {
   "cell_type": "code",
   "execution_count": 11,
   "id": "42c5cd73-e081-4cb7-a08c-8d0340f2a051",
   "metadata": {},
   "outputs": [],
   "source": [
    "cumulative_cash_flow = 0\n",
    "year_before_full_recovery = -1\n",
    "unrecovered_cost_at_start_of_year = 0"
   ]
  },
  {
   "cell_type": "code",
   "execution_count": 13,
   "id": "9e3476f1-04bc-40ae-81d6-33a472da4662",
   "metadata": {},
   "outputs": [
    {
     "name": "stdout",
     "output_type": "stream",
     "text": [
      "The discounted payback period is 5.12 years.\n"
     ]
    }
   ],
   "source": [
    "for i in range(len(discounted_cash_flows)):\n",
    "    cumulative_cash_flow += discounted_cash_flows[i]\n",
    "    if cumulative_cash_flow >= 0:\n",
    "        year_before_full_recovery = i - 1\n",
    "        unrecovered_cost_at_start_of_year = cumulative_cash_flow - discounted_cash_flows[i]\n",
    "        break\n",
    "\n",
    "if year_before_full_recovery == -1:\n",
    "    print(\"The initial investment is never recovered.\")\n",
    "else:\n",
    "    discounted_cash_flow_during_year = discounted_cash_flows[year_before_full_recovery + 1]\n",
    "    discounted_payback_period = year_before_full_recovery + (abs(unrecovered_cost_at_start_of_year) / discounted_cash_flow_during_year)\n",
    "    print(f\"The discounted payback period is {discounted_payback_period:.2f} years.\")"
   ]
  },
  {
   "cell_type": "code",
   "execution_count": null,
   "id": "2a7760d4-1a52-4b1b-8cee-54b67c2e105a",
   "metadata": {},
   "outputs": [],
   "source": []
  }
 ],
 "metadata": {
  "kernelspec": {
   "display_name": "Python 3 (ipykernel)",
   "language": "python",
   "name": "python3"
  },
  "language_info": {
   "codemirror_mode": {
    "name": "ipython",
    "version": 3
   },
   "file_extension": ".py",
   "mimetype": "text/x-python",
   "name": "python",
   "nbconvert_exporter": "python",
   "pygments_lexer": "ipython3",
   "version": "3.11.5"
  }
 },
 "nbformat": 4,
 "nbformat_minor": 5
}
