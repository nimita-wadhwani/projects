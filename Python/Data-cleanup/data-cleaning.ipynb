{
 "cells": [
  {
   "cell_type": "code",
   "execution_count": 6,
   "id": "193b4446",
   "metadata": {},
   "outputs": [],
   "source": [
    "import pandas as pd\n",
    "import numpy as np"
   ]
  },
  {
   "cell_type": "code",
   "execution_count": null,
   "id": "c120ae6a",
   "metadata": {},
   "outputs": [],
   "source": [
    "lst = [['Geek', 25], ['is', 30], \n",
    "       ['for', 26], ['Geeksforgeeks', 22]] "
   ]
  },
  {
   "cell_type": "code",
   "execution_count": null,
   "id": "6e5a6414",
   "metadata": {},
   "outputs": [],
   "source": [
    "lst"
   ]
  },
  {
   "cell_type": "code",
   "execution_count": null,
   "id": "f5159432",
   "metadata": {},
   "outputs": [],
   "source": [
    "df = pd.DataFrame(lst, columns = ['Tag','number'])\n",
    "print(df)"
   ]
  },
  {
   "cell_type": "code",
   "execution_count": null,
   "id": "ae48435e",
   "metadata": {},
   "outputs": [],
   "source": [
    "df"
   ]
  },
  {
   "cell_type": "code",
   "execution_count": null,
   "id": "91db6296",
   "metadata": {},
   "outputs": [],
   "source": [
    "data = [['Geek1', 28, 'Analyst'],\n",
    "        ['Geek2', 35, 'Manager'],\n",
    "        ['Geek3', 29, 'Developer']]"
   ]
  },
  {
   "cell_type": "code",
   "execution_count": null,
   "id": "87932dda",
   "metadata": {},
   "outputs": [],
   "source": [
    "columns = ['Name', 'Age','Occupation']"
   ]
  },
  {
   "cell_type": "code",
   "execution_count": null,
   "id": "190a0e44",
   "metadata": {},
   "outputs": [],
   "source": [
    "df1 = pd.DataFrame(data, columns=columns)"
   ]
  },
  {
   "cell_type": "code",
   "execution_count": null,
   "id": "a47cf3b0",
   "metadata": {},
   "outputs": [],
   "source": [
    "df1\n"
   ]
  },
  {
   "cell_type": "code",
   "execution_count": null,
   "id": "66cc5b10",
   "metadata": {},
   "outputs": [],
   "source": [
    "data = [['Geek1', 26, 'Scientist'],\n",
    "        ['Geek2', 31, 'Researcher'],\n",
    "        ['Geek3', 24, 'Engineer']]"
   ]
  },
  {
   "cell_type": "code",
   "execution_count": null,
   "id": "43c2461b",
   "metadata": {},
   "outputs": [],
   "source": [
    "columns = ['Name', 'Age', 'Occupation']"
   ]
  },
  {
   "cell_type": "code",
   "execution_count": null,
   "id": "726da956",
   "metadata": {},
   "outputs": [],
   "source": [
    "df2 = pd.DataFrame.from_dict(dict(zip(columns, zip(*data))))"
   ]
  },
  {
   "cell_type": "code",
   "execution_count": null,
   "id": "9941d4bd",
   "metadata": {},
   "outputs": [],
   "source": [
    "df2"
   ]
  },
  {
   "cell_type": "code",
   "execution_count": null,
   "id": "a8e25c3f",
   "metadata": {},
   "outputs": [],
   "source": [
    "data = [['Geek1', 'Reacher', 25],\n",
    "        ['Geek2', 'Pete', 30],\n",
    "        ['Geek3', 'Wilson', 26],\n",
    "        ['Geek4', 'Williams', 22]]"
   ]
  },
  {
   "cell_type": "code",
   "execution_count": null,
   "id": "b1e5a316",
   "metadata": {},
   "outputs": [],
   "source": [
    "columns = ['FName', 'LName', 'Age']"
   ]
  },
  {
   "cell_type": "code",
   "execution_count": null,
   "id": "804952bc",
   "metadata": {},
   "outputs": [],
   "source": [
    "df3 = pd.DataFrame(data, columns=columns)\n",
    "df3"
   ]
  },
  {
   "cell_type": "markdown",
   "id": "9be2ff84",
   "metadata": {},
   "source": []
  },
  {
   "cell_type": "code",
   "execution_count": null,
   "id": "5d53dd8b",
   "metadata": {},
   "outputs": [],
   "source": [
    "data = {'Category':['Array', 'Stack', 'Queue'],\n",
    "        'Marks':[20, 21, 19]}"
   ]
  },
  {
   "cell_type": "code",
   "execution_count": null,
   "id": "fc1ab1fb",
   "metadata": {},
   "outputs": [],
   "source": [
    "df = pd.DataFrame(data)"
   ]
  },
  {
   "cell_type": "code",
   "execution_count": null,
   "id": "daab7633",
   "metadata": {},
   "outputs": [],
   "source": [
    "df"
   ]
  },
  {
   "cell_type": "code",
   "execution_count": null,
   "id": "223d4afc",
   "metadata": {},
   "outputs": [],
   "source": [
    "data = {'Category':['Array', 'Stack', 'Queue'],\n",
    "        'Student_1':[20, 21, 19], 'Student_2':[15, 20, 14]} "
   ]
  },
  {
   "cell_type": "code",
   "execution_count": null,
   "id": "45928f2c",
   "metadata": {},
   "outputs": [],
   "source": [
    "df4 = pd.DataFrame(data)"
   ]
  },
  {
   "cell_type": "code",
   "execution_count": null,
   "id": "e8c9b172",
   "metadata": {},
   "outputs": [],
   "source": [
    "df4"
   ]
  },
  {
   "cell_type": "code",
   "execution_count": null,
   "id": "57a1107f",
   "metadata": {},
   "outputs": [],
   "source": [
    "print(df4.transpose())"
   ]
  },
  {
   "cell_type": "code",
   "execution_count": null,
   "id": "c5e73c3a",
   "metadata": {},
   "outputs": [],
   "source": [
    "data = {'Area':['Array', 'Stack', 'Queue'],\n",
    "        'Student_1':[20, 21, 19], 'Student_2':[15, 20, 14]} "
   ]
  },
  {
   "cell_type": "code",
   "execution_count": null,
   "id": "cccee506",
   "metadata": {},
   "outputs": [],
   "source": [
    "df5 = pd.DataFrame(data, index = ['Cat_1','Cat_2','Cat_3'])"
   ]
  },
  {
   "cell_type": "code",
   "execution_count": null,
   "id": "ad197990",
   "metadata": {},
   "outputs": [],
   "source": [
    "df5"
   ]
  },
  {
   "cell_type": "code",
   "execution_count": null,
   "id": "f0995915",
   "metadata": {},
   "outputs": [],
   "source": [
    "data = [['Geek1', 28, 'Engineer'],\n",
    "        ['Geek2', None, 'Data Scientist'],\n",
    "        ['Geek3', 32, None]]"
   ]
  },
  {
   "cell_type": "code",
   "execution_count": null,
   "id": "66119162",
   "metadata": {},
   "outputs": [],
   "source": [
    "columns = ['Name','Age','Occupation']"
   ]
  },
  {
   "cell_type": "code",
   "execution_count": null,
   "id": "b6e88c53",
   "metadata": {},
   "outputs": [],
   "source": [
    "df6 = pd.DataFrame(data, columns=columns)"
   ]
  },
  {
   "cell_type": "code",
   "execution_count": null,
   "id": "3287ea57",
   "metadata": {},
   "outputs": [],
   "source": [
    "df6 = df6.replace({None: np.nan})"
   ]
  },
  {
   "cell_type": "code",
   "execution_count": null,
   "id": "15b6221f",
   "metadata": {},
   "outputs": [],
   "source": [
    "df6"
   ]
  },
  {
   "cell_type": "code",
   "execution_count": null,
   "id": "07d0aa85",
   "metadata": {},
   "outputs": [],
   "source": [
    "data = [['Geek1', 28, 'Engineer'],\n",
    "        ['Geek2', 25, 'Data Scientist'],\n",
    "        ['Geek3', '32', 'Manager']] "
   ]
  },
  {
   "cell_type": "code",
   "execution_count": null,
   "id": "49ffc067",
   "metadata": {},
   "outputs": [],
   "source": [
    "columns = ['Name','Age','Occupation']"
   ]
  },
  {
   "cell_type": "code",
   "execution_count": null,
   "id": "ed22eff4",
   "metadata": {},
   "outputs": [],
   "source": [
    "df7 = pd.DataFrame(data, columns=columns)"
   ]
  },
  {
   "cell_type": "code",
   "execution_count": null,
   "id": "3f8669b3",
   "metadata": {},
   "outputs": [],
   "source": [
    "df7"
   ]
  },
  {
   "cell_type": "code",
   "execution_count": null,
   "id": "bc3e1ea7",
   "metadata": {},
   "outputs": [],
   "source": [
    "df7['Age'] = pd.to_numeric(df['Age'],errors='coerce')"
   ]
  },
  {
   "cell_type": "code",
   "execution_count": null,
   "id": "fa776511",
   "metadata": {},
   "outputs": [],
   "source": [
    "data = [[1, 5, 10], [2, 6, 9], [3, 7, 8]] "
   ]
  },
  {
   "cell_type": "code",
   "execution_count": null,
   "id": "5d0d49ba",
   "metadata": {},
   "outputs": [],
   "source": [
    "df8 = pd.DataFrame(data)\n",
    "df8"
   ]
  },
  {
   "cell_type": "code",
   "execution_count": null,
   "id": "2c45ef47",
   "metadata": {},
   "outputs": [],
   "source": [
    "df8.columns = ['Col_1', 'Col_2', 'Col_3']"
   ]
  },
  {
   "cell_type": "code",
   "execution_count": null,
   "id": "249d0d7e",
   "metadata": {},
   "outputs": [],
   "source": [
    "df8"
   ]
  },
  {
   "cell_type": "code",
   "execution_count": null,
   "id": "b31d21ee",
   "metadata": {},
   "outputs": [],
   "source": [
    "print(df8, '\\n')"
   ]
  },
  {
   "cell_type": "code",
   "execution_count": null,
   "id": "b32ac05f",
   "metadata": {},
   "outputs": [],
   "source": [
    "df8 = df8.transpose()\n",
    "df8"
   ]
  },
  {
   "cell_type": "code",
   "execution_count": null,
   "id": "0bdfe827",
   "metadata": {},
   "outputs": [],
   "source": [
    "data = [('Peter', 18, 7),\n",
    "        ('Riff', 15, 6),\n",
    "        ('John', 17, 8),\n",
    "        ('Michel', 18, 7),\n",
    "        ('Sheli', 17, 5) ]"
   ]
  },
  {
   "cell_type": "code",
   "execution_count": null,
   "id": "9be9ff2f",
   "metadata": {},
   "outputs": [],
   "source": [
    "df9 = pd.DataFrame(data,columns = ['Name', 'Age', 'Score'])\n",
    "df9"
   ]
  },
  {
   "cell_type": "code",
   "execution_count": null,
   "id": "3e48533f",
   "metadata": {},
   "outputs": [],
   "source": [
    "columns=['Team', 'Age', 'Score']\n",
    "df10 = pd.DataFrame.from_records(data, columns = columns)\n"
   ]
  },
  {
   "cell_type": "code",
   "execution_count": null,
   "id": "c336b8d5",
   "metadata": {},
   "outputs": [],
   "source": [
    "df10"
   ]
  },
  {
   "cell_type": "code",
   "execution_count": null,
   "id": "a229f733",
   "metadata": {},
   "outputs": [],
   "source": [
    "data = [('Peter', 18, 7),\n",
    "        ('Riff', 15, 6),\n",
    "    ('John', 17, 8),\n",
    "    ('Michel', 18, 7),\n",
    "    ('Sheli', 17, 5) ]"
   ]
  },
  {
   "cell_type": "code",
   "execution_count": null,
   "id": "8383532b",
   "metadata": {},
   "outputs": [],
   "source": [
    "df = pd.DataFrame(data, columns =['Team', 'Age', 'Score'])"
   ]
  },
  {
   "cell_type": "code",
   "execution_count": null,
   "id": "1649a034",
   "metadata": {},
   "outputs": [],
   "source": [
    "df"
   ]
  },
  {
   "cell_type": "code",
   "execution_count": null,
   "id": "9c6de16d",
   "metadata": {},
   "outputs": [],
   "source": [
    "a = df.pivot(index='Team', columns='Score', values='Age')\n",
    "a"
   ]
  },
  {
   "cell_type": "code",
   "execution_count": null,
   "id": "0359bfde",
   "metadata": {},
   "outputs": [],
   "source": [
    "data = [{'Geeks': 'dataframe', 'For': 'using', 'geeks': 'list'},\n",
    "        {'Geeks':10, 'For': 20, 'geeks': 30}] \n",
    " "
   ]
  },
  {
   "cell_type": "code",
   "execution_count": null,
   "id": "e05ea3f8",
   "metadata": {},
   "outputs": [],
   "source": [
    "data"
   ]
  },
  {
   "cell_type": "code",
   "execution_count": null,
   "id": "4a7259f7",
   "metadata": {},
   "outputs": [],
   "source": [
    "df = pd.DataFrame.from_records(data, index=['1','2'])"
   ]
  },
  {
   "cell_type": "code",
   "execution_count": null,
   "id": "8d2ad13d",
   "metadata": {},
   "outputs": [],
   "source": [
    "print(df)"
   ]
  },
  {
   "cell_type": "code",
   "execution_count": null,
   "id": "a6dc6369",
   "metadata": {},
   "outputs": [],
   "source": [
    "df = pd.DataFrame.from_dict(data)"
   ]
  },
  {
   "cell_type": "code",
   "execution_count": null,
   "id": "225ff980",
   "metadata": {},
   "outputs": [],
   "source": [
    "df"
   ]
  },
  {
   "cell_type": "code",
   "execution_count": null,
   "id": "baaa9748",
   "metadata": {},
   "outputs": [],
   "source": [
    "df = pd.json_normalize(data)"
   ]
  },
  {
   "cell_type": "code",
   "execution_count": null,
   "id": "8b78c0a5",
   "metadata": {},
   "outputs": [],
   "source": [
    "df"
   ]
  },
  {
   "cell_type": "code",
   "execution_count": null,
   "id": "ba0f6996",
   "metadata": {},
   "outputs": [],
   "source": [
    "df = pd.DataFrame(data)"
   ]
  },
  {
   "cell_type": "code",
   "execution_count": null,
   "id": "e7d68404",
   "metadata": {},
   "outputs": [],
   "source": [
    "df"
   ]
  },
  {
   "cell_type": "code",
   "execution_count": null,
   "id": "c42d830b",
   "metadata": {},
   "outputs": [],
   "source": [
    "df1 = pd.DataFrame(data, index=['ind1','ind2'], columns=['Geeks','For'])"
   ]
  },
  {
   "cell_type": "code",
   "execution_count": null,
   "id": "ec328b58",
   "metadata": {},
   "outputs": [],
   "source": [
    "df1"
   ]
  },
  {
   "cell_type": "code",
   "execution_count": null,
   "id": "bdad8888",
   "metadata": {},
   "outputs": [],
   "source": [
    "df2 = pd.DataFrame(data, index=['indx','indy'])"
   ]
  },
  {
   "cell_type": "code",
   "execution_count": null,
   "id": "b651d2f9",
   "metadata": {},
   "outputs": [],
   "source": [
    "df2"
   ]
  },
  {
   "cell_type": "code",
   "execution_count": null,
   "id": "8ddddc30",
   "metadata": {},
   "outputs": [],
   "source": [
    "print(df1,\"\\n\")"
   ]
  },
  {
   "cell_type": "code",
   "execution_count": null,
   "id": "8a67963f",
   "metadata": {},
   "outputs": [],
   "source": [
    "print(df1)"
   ]
  },
  {
   "cell_type": "code",
   "execution_count": null,
   "id": "dbb1690b",
   "metadata": {},
   "outputs": [],
   "source": [
    "print(df2)"
   ]
  },
  {
   "cell_type": "code",
   "execution_count": null,
   "id": "14655a37",
   "metadata": {},
   "outputs": [],
   "source": [
    "countries = {\n",
    "    \"1\": {\"Country\": \"New Country 1\",\n",
    "          \"Capital\": \"New Capital 1\",\n",
    "          \"Population\": \"123,456,789\"},\n",
    "    \"2\": {\"Country\": \"New Country 2\",\n",
    "          \"Capital\": \"New Capital 2\",\n",
    "          \"Population\": \"987,654,321\"},\n",
    "    \"3\": {\"Country\": \"New Country 3\",\n",
    "          \"Capital\": \"New Capital 3\",\n",
    "          \"Population\": \"111,222,333\"}\n",
    "}"
   ]
  },
  {
   "cell_type": "code",
   "execution_count": null,
   "id": "57a29654",
   "metadata": {},
   "outputs": [],
   "source": [
    "countries"
   ]
  },
  {
   "cell_type": "code",
   "execution_count": null,
   "id": "272f8319",
   "metadata": {},
   "outputs": [],
   "source": [
    "df = pd.DataFrame.from_dict(countries,orient='index')\n",
    "df"
   ]
  },
  {
   "cell_type": "code",
   "execution_count": null,
   "id": "df64eafd",
   "metadata": {},
   "outputs": [],
   "source": [
    "list = [{\n",
    "        \"Student\": [{\"Exam\": 90, \"Grade\": \"a\"},\n",
    "                    {\"Exam\": 99, \"Grade\": \"b\"},\n",
    "                    {\"Exam\": 97, \"Grade\": \"c\"},\n",
    "                    ],\n",
    "        \"Name\": \"Paras Jain\"\n",
    "        },\n",
    "        {\n",
    "        \"Student\": [{\"Exam\": 89, \"Grade\": \"a\"},\n",
    "                    {\"Exam\": 80, \"Grade\": \"b\"}\n",
    "                    ],\n",
    "        \"Name\": \"Chunky Pandey\"\n",
    "        }\n",
    "        ]"
   ]
  },
  {
   "cell_type": "code",
   "execution_count": null,
   "id": "3d549657",
   "metadata": {},
   "outputs": [],
   "source": [
    "list"
   ]
  },
  {
   "cell_type": "code",
   "execution_count": null,
   "id": "059d7a31",
   "metadata": {},
   "outputs": [],
   "source": [
    "print(list)"
   ]
  },
  {
   "cell_type": "code",
   "execution_count": null,
   "id": "80ffda5c",
   "metadata": {},
   "outputs": [],
   "source": [
    "rows = []"
   ]
  },
  {
   "cell_type": "code",
   "execution_count": null,
   "id": "cee60f03",
   "metadata": {},
   "outputs": [],
   "source": [
    "for data in list:\n",
    "    data_row = data['Student']\n",
    "    time = data['Name']\n",
    "    \n",
    "    for row in data_row:\n",
    "        row['Name'] = time\n",
    "        rows.append(row)\n",
    "        \n",
    "df = pd.DataFrame(rows)\n",
    "print(df)"
   ]
  },
  {
   "cell_type": "code",
   "execution_count": null,
   "id": "40f06d2e",
   "metadata": {},
   "outputs": [],
   "source": [
    "countries = {\n",
    "    \"1\": {\"Country\": \"New Country 1\",\n",
    "          \"Capital\": \"New Capital 1\",\n",
    "          \"Population\": \"123,456,789\"},\n",
    "    \"2\": {\"Country\": \"New Country 2\",\n",
    "          \"Capital\": \"New Capital 2\",\n",
    "          \"Population\": \"987,654,321\"},\n",
    "    \"3\": {\"Country\": \"New Country 3\",\n",
    "          \"Capital\": \"New Capital 3\",\n",
    "          \"Population\": \"111,222,333\"}\n",
    "}"
   ]
  },
  {
   "cell_type": "code",
   "execution_count": null,
   "id": "6ca8aa51",
   "metadata": {},
   "outputs": [],
   "source": [
    "df = pd.DataFrame.from_dict(countries, orient = 'index')"
   ]
  },
  {
   "cell_type": "code",
   "execution_count": null,
   "id": "eb74de34",
   "metadata": {},
   "outputs": [],
   "source": [
    "print(df)"
   ]
  },
  {
   "cell_type": "code",
   "execution_count": 1,
   "id": "afdba18b",
   "metadata": {},
   "outputs": [],
   "source": [
    "list = [\n",
    "    {\n",
    "        \"Student\": [{\"Exam\": 90, \"Grade\": \"a\"},\n",
    "                    {\"Exam\": 99, \"Grade\": \"b\"},\n",
    "                    {\"Exam\": 97, \"Grade\": \"c\"},\n",
    "                    ],\n",
    "        \"Name\": \"Paras Jain\"\n",
    "        },\n",
    "        {\n",
    "        \"Student\": [{\"Exam\": 89, \"Grade\": \"a\"},\n",
    "                    {\"Exam\": 80, \"Grade\": \"b\"}\n",
    "                    ],\n",
    "        \"Name\": \"Chunky Pandey\"\n",
    "        }\n",
    "]"
   ]
  },
  {
   "cell_type": "code",
   "execution_count": null,
   "id": "6780bf05",
   "metadata": {},
   "outputs": [],
   "source": [
    "print(list)"
   ]
  },
  {
   "cell_type": "code",
   "execution_count": 2,
   "id": "b760b4fb",
   "metadata": {},
   "outputs": [],
   "source": [
    "rows = []"
   ]
  },
  {
   "cell_type": "code",
   "execution_count": null,
   "id": "09da3533",
   "metadata": {},
   "outputs": [],
   "source": [
    "for data in list:\n",
    "    data_row = data['Student']\n",
    "    time = data['Name']\n"
   ]
  },
  {
   "cell_type": "code",
   "execution_count": null,
   "id": "b7224a7b",
   "metadata": {},
   "outputs": [],
   "source": [
    "data_row"
   ]
  },
  {
   "cell_type": "code",
   "execution_count": null,
   "id": "865ff49d",
   "metadata": {},
   "outputs": [],
   "source": [
    "time"
   ]
  },
  {
   "cell_type": "code",
   "execution_count": null,
   "id": "1c48042e",
   "metadata": {},
   "outputs": [],
   "source": [
    "for row in data_row:\n",
    "        row['Name'] = time\n",
    "        rows.append(row)"
   ]
  },
  {
   "cell_type": "code",
   "execution_count": null,
   "id": "d0a9edc8",
   "metadata": {},
   "outputs": [],
   "source": [
    "row"
   ]
  },
  {
   "cell_type": "code",
   "execution_count": 3,
   "id": "b2c4cc1a",
   "metadata": {},
   "outputs": [],
   "source": [
    "for data in list:\n",
    "    data_row = data['Student']\n",
    "    time = data['Name']\n",
    "    \n",
    "    for row in data_row:\n",
    "        row['Name'] = time\n",
    "        rows.append(row)"
   ]
  },
  {
   "cell_type": "raw",
   "id": "b5c3122c",
   "metadata": {},
   "source": []
  },
  {
   "cell_type": "code",
   "execution_count": 7,
   "id": "0a4aa8f3",
   "metadata": {},
   "outputs": [],
   "source": [
    "df = pd.DataFrame(rows)"
   ]
  },
  {
   "cell_type": "code",
   "execution_count": 8,
   "id": "2447927d",
   "metadata": {},
   "outputs": [
    {
     "name": "stdout",
     "output_type": "stream",
     "text": [
      "   Exam Grade           Name\n",
      "0    90     a     Paras Jain\n",
      "1    99     b     Paras Jain\n",
      "2    97     c     Paras Jain\n",
      "3    89     a  Chunky Pandey\n",
      "4    80     b  Chunky Pandey\n"
     ]
    }
   ],
   "source": [
    "print(df)"
   ]
  },
  {
   "cell_type": "code",
   "execution_count": null,
   "id": "3d35dc15",
   "metadata": {},
   "outputs": [],
   "source": []
  },
  {
   "cell_type": "code",
   "execution_count": null,
   "id": "1e1fda53",
   "metadata": {},
   "outputs": [],
   "source": []
  },
  {
   "cell_type": "code",
   "execution_count": null,
   "id": "76ed9319",
   "metadata": {},
   "outputs": [],
   "source": [
    "list1 = [\n",
    "    {\n",
    "        \"Student\": [{\"Exam\": 90, \"Grade\": \"a\"},\n",
    "                    {\"Exam\": 99, \"Grade\": \"b\"},\n",
    "                    {\"Exam\": 97, \"Grade\": \"c\"},\n",
    "                    ],\n",
    "        \"Name\": \"Paras Jain\"\n",
    "        },\n",
    "        {\n",
    "        \"Student\": [{\"Exam\": 89, \"Grade\": \"a\"},\n",
    "                    {\"Exam\": 80, \"Grade\": \"b\"}\n",
    "                    ],\n",
    "        \"Name\": \"Chunky Pandey\"\n",
    "        }\n",
    "]"
   ]
  },
  {
   "cell_type": "code",
   "execution_count": null,
   "id": "7dbeab2f",
   "metadata": {},
   "outputs": [],
   "source": [
    "rows1 = []\n",
    "\n",
    "for data in list1:\n",
    "    data_row = data['Student']\n",
    "    time = data['Name']\n",
    "    \n",
    "    for row in data_row:\n",
    "        row['Name'] = time\n",
    "        rows1.append(row)"
   ]
  },
  {
   "cell_type": "code",
   "execution_count": null,
   "id": "52fd76e7",
   "metadata": {},
   "outputs": [],
   "source": [
    "rows1\n"
   ]
  },
  {
   "cell_type": "code",
   "execution_count": null,
   "id": "fd812ffb",
   "metadata": {},
   "outputs": [],
   "source": [
    "data"
   ]
  },
  {
   "cell_type": "code",
   "execution_count": null,
   "id": "a519f90f",
   "metadata": {},
   "outputs": [],
   "source": [
    "row"
   ]
  },
  {
   "cell_type": "code",
   "execution_count": null,
   "id": "55232906",
   "metadata": {},
   "outputs": [],
   "source": [
    "df =  df.pivot_table(index='Name', columns = ['Grade'], values=['Exam'])"
   ]
  },
  {
   "cell_type": "code",
   "execution_count": null,
   "id": "f393f9c6",
   "metadata": {},
   "outputs": [],
   "source": [
    "df"
   ]
  },
  {
   "cell_type": "code",
   "execution_count": 9,
   "id": "e21b53bb",
   "metadata": {},
   "outputs": [],
   "source": [
    "df =  df.pivot_table(index='Name', columns = ['Grade'], values=['Exam']).reset_index()"
   ]
  },
  {
   "cell_type": "code",
   "execution_count": 10,
   "id": "ca3847ff",
   "metadata": {},
   "outputs": [
    {
     "data": {
      "text/html": [
       "<div>\n",
       "<style scoped>\n",
       "    .dataframe tbody tr th:only-of-type {\n",
       "        vertical-align: middle;\n",
       "    }\n",
       "\n",
       "    .dataframe tbody tr th {\n",
       "        vertical-align: top;\n",
       "    }\n",
       "\n",
       "    .dataframe thead tr th {\n",
       "        text-align: left;\n",
       "    }\n",
       "</style>\n",
       "<table border=\"1\" class=\"dataframe\">\n",
       "  <thead>\n",
       "    <tr>\n",
       "      <th></th>\n",
       "      <th>Name</th>\n",
       "      <th colspan=\"3\" halign=\"left\">Exam</th>\n",
       "    </tr>\n",
       "    <tr>\n",
       "      <th>Grade</th>\n",
       "      <th></th>\n",
       "      <th>a</th>\n",
       "      <th>b</th>\n",
       "      <th>c</th>\n",
       "    </tr>\n",
       "  </thead>\n",
       "  <tbody>\n",
       "    <tr>\n",
       "      <th>0</th>\n",
       "      <td>Chunky Pandey</td>\n",
       "      <td>89.0</td>\n",
       "      <td>80.0</td>\n",
       "      <td>NaN</td>\n",
       "    </tr>\n",
       "    <tr>\n",
       "      <th>1</th>\n",
       "      <td>Paras Jain</td>\n",
       "      <td>90.0</td>\n",
       "      <td>99.0</td>\n",
       "      <td>97.0</td>\n",
       "    </tr>\n",
       "  </tbody>\n",
       "</table>\n",
       "</div>"
      ],
      "text/plain": [
       "                Name  Exam            \n",
       "Grade                    a     b     c\n",
       "0      Chunky Pandey  89.0  80.0   NaN\n",
       "1         Paras Jain  90.0  99.0  97.0"
      ]
     },
     "execution_count": 10,
     "metadata": {},
     "output_type": "execute_result"
    }
   ],
   "source": [
    "df"
   ]
  },
  {
   "cell_type": "code",
   "execution_count": 11,
   "id": "9d81c475",
   "metadata": {},
   "outputs": [],
   "source": [
    "df.columns = ['Name', 'Maths', 'Physics', 'Chemistry']"
   ]
  },
  {
   "cell_type": "code",
   "execution_count": 12,
   "id": "91de66cf",
   "metadata": {},
   "outputs": [
    {
     "name": "stdout",
     "output_type": "stream",
     "text": [
      "            Name  Maths  Physics  Chemistry\n",
      "0  Chunky Pandey   89.0     80.0        NaN\n",
      "1     Paras Jain   90.0     99.0       97.0\n"
     ]
    }
   ],
   "source": [
    "print(df)"
   ]
  },
  {
   "cell_type": "code",
   "execution_count": 13,
   "id": "1056901a",
   "metadata": {},
   "outputs": [],
   "source": [
    "df =  pd.DataFrame({'City':['New York', 'Parague', 'New Delhi', 'Venice', 'new Orleans'],\n",
    "                    'Event':['Music', 'Poetry', 'Theatre', 'Comedy', 'Tech_Summit'],\n",
    "                    'Cost':[10000, 5000, 15000, 2000, 12000]})"
   ]
  },
  {
   "cell_type": "code",
   "execution_count": 14,
   "id": "a8a2c287",
   "metadata": {},
   "outputs": [],
   "source": [
    "index = [pd.Period('02-2018'),pd.Period('04-2018'),pd.Period('06-2018'),pd.Period('10-2018'),pd.Period('12-2018')]"
   ]
  },
  {
   "cell_type": "code",
   "execution_count": 16,
   "id": "d5297c90",
   "metadata": {},
   "outputs": [],
   "source": [
    "df.index = index"
   ]
  },
  {
   "cell_type": "code",
   "execution_count": 17,
   "id": "fa4407b4",
   "metadata": {},
   "outputs": [
    {
     "name": "stdout",
     "output_type": "stream",
     "text": [
      "                City        Event   Cost\n",
      "2018-02     New York        Music  10000\n",
      "2018-04      Parague       Poetry   5000\n",
      "2018-06    New Delhi      Theatre  15000\n",
      "2018-10       Venice       Comedy   2000\n",
      "2018-12  new Orleans  Tech_Summit  12000\n"
     ]
    }
   ],
   "source": [
    "print(df)"
   ]
  },
  {
   "cell_type": "code",
   "execution_count": 18,
   "id": "c31937c9",
   "metadata": {},
   "outputs": [],
   "source": [
    "df_updated = df.replace(to_replace='[nN]ew', value = 'New_', regex = True)"
   ]
  },
  {
   "cell_type": "code",
   "execution_count": 19,
   "id": "3a3b8ab6",
   "metadata": {},
   "outputs": [
    {
     "name": "stdout",
     "output_type": "stream",
     "text": [
      "                 City        Event   Cost\n",
      "2018-02     New_ York        Music  10000\n",
      "2018-04       Parague       Poetry   5000\n",
      "2018-06    New_ Delhi      Theatre  15000\n",
      "2018-10        Venice       Comedy   2000\n",
      "2018-12  New_ Orleans  Tech_Summit  12000\n"
     ]
    }
   ],
   "source": [
    "print(df_updated)"
   ]
  },
  {
   "cell_type": "code",
   "execution_count": null,
   "id": "d9e38817",
   "metadata": {},
   "outputs": [],
   "source": []
  },
  {
   "cell_type": "code",
   "execution_count": null,
   "id": "d62a7df1",
   "metadata": {},
   "outputs": [],
   "source": []
  },
  {
   "cell_type": "code",
   "execution_count": null,
   "id": "3f814c65",
   "metadata": {},
   "outputs": [],
   "source": []
  },
  {
   "cell_type": "code",
   "execution_count": null,
   "id": "667c4ee6",
   "metadata": {},
   "outputs": [],
   "source": []
  },
  {
   "cell_type": "code",
   "execution_count": null,
   "id": "b92e3e06",
   "metadata": {},
   "outputs": [],
   "source": []
  },
  {
   "cell_type": "code",
   "execution_count": null,
   "id": "9623cc0d",
   "metadata": {},
   "outputs": [],
   "source": []
  },
  {
   "cell_type": "code",
   "execution_count": null,
   "id": "95e01cab",
   "metadata": {},
   "outputs": [],
   "source": []
  }
 ],
 "metadata": {
  "kernelspec": {
   "display_name": "Python 3 (ipykernel)",
   "language": "python",
   "name": "python3"
  },
  "language_info": {
   "codemirror_mode": {
    "name": "ipython",
    "version": 3
   },
   "file_extension": ".py",
   "mimetype": "text/x-python",
   "name": "python",
   "nbconvert_exporter": "python",
   "pygments_lexer": "ipython3",
   "version": "3.11.5"
  }
 },
 "nbformat": 4,
 "nbformat_minor": 5
}
